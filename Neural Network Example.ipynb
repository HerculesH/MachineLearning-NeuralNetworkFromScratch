{
 "cells": [
  {
   "cell_type": "code",
   "execution_count": 454,
   "metadata": {},
   "outputs": [
    {
     "data": {
      "image/png": "[encoded data removed]",
      "text/plain": [
       "<Figure size 640x480 with 1 Axes>"
      ]
     },
     "metadata": {},
     "output_type": "display_data"
    }
   ],
   "source": [
    "import numpy as np\n",
    "import pandas as pd\n",
    "from sklearn.model_selection import train_test_split\n",
    "import matplotlib.pyplot as plt; plt.rcdefaults()\n",
    "import matplotlib.pyplot as plt\n",
    "\n",
    "df = pd.read_csv(\"../Downloads/diabetes.csv\")\n",
    "targetDF = df[['Outcome']].copy()\n",
    "testDF = df.drop(['Outcome'], axis=1).copy()\n",
    "\n",
    "x_train, x_val, y_train, y_val = train_test_split(testDF, targetDF, test_size=0.25, shuffle=True)\n",
    "\n",
    "objects = ('Data Training', 'Data Testing','Target Training', 'Target Testing')\n",
    "y_pos = np.arange(len(objects))\n",
    "performance = [len(x_train),len(x_val),len(y_train),len(y_val)]\n",
    " \n",
    "plt.bar(y_pos, performance, align='center', alpha=0.5)\n",
    "plt.xticks(y_pos, objects)\n",
    "plt.ylabel('# of samples')\n",
    "plt.title('Sample Overview')\n",
    "\n",
    "plt.show()"
   ]
  },
  {
   "cell_type": "code",
   "execution_count": 481,
   "metadata": {},
   "outputs": [],
   "source": [
    "#@author Hercules Hjalmarsson\n",
    "\n",
    "from statistics import mean\n",
    "from sklearn.base import BaseEstimator\n",
    "import math\n",
    "import numpy as np\n",
    "import pandas as pd\n",
    "import scipy\n",
    "import scipy.stats\n",
    "import time\n",
    "\n",
    "class neuralNetwork(BaseEstimator):\n",
    "    def __init__(self, hiddenLayerSize, iterations=10000, showLoss = False,overFitPrevention = False):\n",
    "        self.iter = iterations\n",
    "        self.showLossStatus = showLoss\n",
    "        self.overFitP = overFitPrevention\n",
    "        self.hls = hiddenLayerSize\n",
    "    \n",
    "    #Function to define the size of the layer\n",
    "    def layer_sizes(self,X, Y):\n",
    "        inputLayerSize = X.shape[0] # size of input layer\n",
    "        hiddenLayerSize = self.hls# size of hidden layer\n",
    "        outputLayerSize = Y.shape[0] # size of output layer\n",
    "        return (inputLayerSize, hiddenLayerSize, outputLayerSize)\n",
    "    \n",
    "    #Math helper functions\n",
    "    def sigmoid(self, s):\n",
    "        return 1 / (1 + np.exp(-s))\n",
    "    \n",
    "    def sigmoidPrime(self, s):\n",
    "        return 1 - s**2\n",
    "        \n",
    "    def softmax(self,inputData):\n",
    "        exps = np.exp(inputData - np.max(inputData, axis=1, keepdims=True))\n",
    "        return exps/np.sum(exps, axis=1, keepdims=True)\n",
    "    \n",
    "    def tanh_deriv(self,s):\n",
    "        return 1.0 - np.tanh(s)**2\n",
    "    \n",
    "    def ReLU(self,s):\n",
    "        return s * (s > 0)\n",
    "\n",
    "    def dReLU(self,s):\n",
    "        return 1. * (s > 0)\n",
    "    \n",
    "    #Computes the loss value\n",
    "    def cross_entropy(self,y_pred, y_true):\n",
    "        n_samples = y_true.shape[0]\n",
    "        res = y_pred - y_true\n",
    "        return res/n_samples\n",
    "    \n",
    "    def mse_loss(self,y_pred,y_true):\n",
    "        # y_true and y_pred are numpy arrays of the same length.\n",
    "        return ((y_true - y_pred) ** 2).mean()\n",
    "    \n",
    "    def fit(self,X,Y,LearnRate=0.5):\n",
    "        # Initialize parameters\n",
    "        self.n_x = self.layer_sizes(X, Y)[0]\n",
    "        self.n_y = self.layer_sizes(X, Y)[2]\n",
    "        #Stores the target value for accuracy comparison when evaluating\n",
    "        self.targetData = Y\n",
    "        self.W1 = np.random.randn(self.hls, self.n_x) * 0.01 #weight matrix of shape hiddenlayerSize, inputSize\n",
    "        self.b1 = np.zeros(shape=(self.hls, 1))  #bias vector of shape (hiddenlayerSize, 1)\n",
    "        self.W2 = np.random.randn(self.n_y, self.hls) * 0.01   #weight matrix of shape (outputSize, hiddenlayerSize)\n",
    "        self.b2 = np.zeros(shape=(self.n_y, 1))  #bias vector of shape (outputSize, 1)\n",
    "        #Model that can be saved/viewed\n",
    "        self.internalModel = { 'W1': self.W1, 'b1': self.b1, 'W2': self.W2, 'b2': self.b2}\n",
    "        #Train loop\n",
    "        self.trainNeuralNetwork(LearnRate,X,Y)\n",
    "             \n",
    "    def trainNeuralNetwork(self,LearnRate,X,Y):\n",
    "        # Loop (gradient descent)\n",
    "        for i in range(self.iter):\n",
    "            #Forward propagation: Inputs: X = data\n",
    "            o = self.forwardPropagate(X)\n",
    "            #Internal prediction: o = predicted output (Formatted)\n",
    "            self.predictTargetVal = self.formatOutput(o)\n",
    "            \n",
    "            #Gets the loss value: Inputs: self.A2 = Prediction, Y = Target\n",
    "            self.loss = self.mse_loss(self.A2,Y)\n",
    "\n",
    "            # Backpropagation: Inputs: X = data, Y = Target\n",
    "            self.backPropagate(X,Y)\n",
    "            \n",
    "            # Train the weights and biases\n",
    "            self.trainWeightsAndBiases(LearnRate)\n",
    "        \n",
    "            #Map of model\n",
    "            self.internalModel = { 'W1': self.W1, 'b1': self.b1, 'W2': self.W2, 'b2': self.b2}\n",
    "            #If used, checks if loss$ rate is = 0 which may indicate overfitting\n",
    "            if(self.overFitP):\n",
    "                if(self.loss.sum() > 0.1 and self.loss.sum() < 0.2):\n",
    "                    print(\"Well trained! Exiting training loop.\")\n",
    "                    print(\" Loss: %f Accuracy: %f\" % (self.loss.sum(),self.evaluate(X,Y,True)))\n",
    "                    break\n",
    "                elif(self.loss.sum() < 0.1):\n",
    "                    print(\"Overfit detected! Retraining model\")\n",
    "                    print(\"Error Rate: %f Accuracy: %f\" % (self.loss.sum(),self.evaluate(X,Y,True)))\n",
    "                    self.retrain()\n",
    "            # Print the loss value every 100 iterations\n",
    "            if(self.showLossStatus and (i % 100) == 0):\n",
    "                print(\" Loss: %f Accuracy: %f\" % (self.loss.sum(),self.evaluate(X,Y,True)))\n",
    "                \n",
    "    # Gradient descent parameter update\n",
    "    def trainWeightsAndBiases(self,learningRate):\n",
    "        # Update rule for each parameter\n",
    "        #dW1,dW2,db1,db2 comes from backward propagate function\n",
    "        self.W1 = self.W1 - learningRate * self.dW1\n",
    "        self.W2 = self.W2 - learningRate * self.dW2\n",
    "        self.b1 = self.b1 - learningRate * self.db1\n",
    "        self.b2 = self.b2 - learningRate * self.db2\n",
    "    \n",
    "    def retrain(self):\n",
    "        self.W1 = np.random.randn(self.hls, self.n_x) * 0.01 #weight matrix of shape (hiddenLayerSize, inputLayerSize)\n",
    "        self.b1 = np.zeros(shape=(self.hls, 1))  #bias vector of shape (hiddenLayerSize, 1)\n",
    "        self.W2 = np.random.randn(self.n_y, self.hls) * 0.01   #weight matrix of shape (OutputLayerSize, hiddenLayerSize)\n",
    "        self.b2 = np.zeros(shape=(self.n_y, 1))  #bias vector of shape (OutputLayerSize, 1)\n",
    "        \n",
    "    #Predict function which outputs the model predicted values\n",
    "    def predict(self,testData):\n",
    "        outputSize = 0\n",
    "        try:\n",
    "            outputSize = testData.shape[0]\n",
    "        except:\n",
    "            outputSize = 1\n",
    "            \n",
    "        shouldCorrectOutput = False\n",
    "        if(testData.shape[0] != self.W1.shape[1]):\n",
    "            shouldCorrectOutput = True\n",
    "            if(testData.shape[0] < self.W1.shape[1]):\n",
    "                while testData.shape[0] < self.W1.shape[1]:\n",
    "                    testData = np.append(testData, testData, axis = 0)\n",
    "\n",
    "                for i in reversed(range(self.W1.shape[1])):\n",
    "                    if(testData.shape[0] > self.W1.shape[1]):\n",
    "                        testData = np.delete(testData,i,axis = 0)\n",
    "            else:\n",
    "                for i in reversed(range(self.W1.shape[1])):\n",
    "                    if(testData.shape[0] > self.W1.shape[1]):\n",
    "                        testData = np.delete(testData,i,axis = 0)\n",
    "        \n",
    "        self.A2 = self.forwardPropagate(testData)\n",
    "        if(shouldCorrectOutput):\n",
    "            for i in reversed(range(self.W1.shape[1])):\n",
    "                if(self.A2.shape[0] > outputSize):\n",
    "                    self.A2 = np.delete(self.A2, i, axis = 0)\n",
    "            return self.A2\n",
    "        else:\n",
    "            return self.A2\n",
    "    \n",
    "    #Forward propagation function to get a prediction by the using the models weights and biases\n",
    "    def forwardPropagate(self,X):\n",
    "        self.Z1 = np.add(np.matmul(self.W1, X), self.b1)\n",
    "        self.A1 = np.tanh(self.Z1)\n",
    "        self.Z2 = np.add(np.matmul(self.W2, self.A1), self.b2)\n",
    "        self.A2 = self.sigmoid(self.Z2)\n",
    "        return self.A2\n",
    "    \n",
    "    #Backwards propagation function to train the model with the predictions given by the forward propogate\n",
    "    def backPropagate(self,X,Y):\n",
    "        m = X.shape[1]\n",
    "        dZ2 = self.A2 - Y\n",
    "        self.dW2 = (1.0/m) * np.matmul(dZ2, np.transpose(self.A1)) + (0.7/m)*self.W2 #regularization\n",
    "        self.db2 = (1.0/m) * np.sum(dZ2, axis=1, keepdims=True)\n",
    "    \n",
    "        dZ1 = np.matmul(np.transpose(self.W2), dZ2) * self.sigmoidPrime(self.A1)\n",
    "        self.dW1 = (1.0/m) * np.matmul(dZ1, np.transpose(X)) + (0.7/m)*self.W1 #regularization\n",
    "        self.db1 = (1.0/m) * np.sum(dZ1, axis=1, keepdims=True)\n",
    "    \n",
    "    #Functions which formats the output predictions correctly\n",
    "    def formatOutput(self,output):\n",
    "        getOutput = []\n",
    "        for i in range(len(output)):\n",
    "            getOutput.append(mean(output[i]))\n",
    "        \n",
    "        return getOutput\n",
    "    \n",
    "    #Function which evaluates the training and testing accuracy of the model\n",
    "    def evaluate(self,testData,targetData,showTrainingAccuracy = False, showTestAccuracy = False):\n",
    "        \n",
    "        if(showTrainingAccuracy):\n",
    "            temp = []\n",
    "            accuracyT = 0\n",
    "            for v in self.predictTargetVal: \n",
    "                if(v < 0.5):\n",
    "                    temp.append(0)\n",
    "                else:\n",
    "                    temp.append(1)\n",
    "\n",
    "            for j in range(len(self.targetData)):\n",
    "                if(temp[j] == self.targetData[j]):\n",
    "                    accuracyT += 1;\n",
    "            \n",
    "        if(showTestAccuracy):\n",
    "            output = self.predict(testData)\n",
    "            \n",
    "            for i in range(len(output)):\n",
    "                if(mean(output[i]) > 0.5):\n",
    "                    output[i] = 1;\n",
    "                else:\n",
    "                    output[i] = 0;\n",
    "            \n",
    "            valid = targetData\n",
    "            accuracy = 0 \n",
    "            for i in range(len(valid)):\n",
    "                if(mean(output[i]) == valid[i]):\n",
    "                    accuracy += 1\n",
    "\n",
    "        if(showTrainingAccuracy and showTestAccuracy):\n",
    "            return accuracyT/len(self.targetData),accuracy/len(valid)\n",
    "        \n",
    "        if(showTrainingAccuracy):\n",
    "            return accuracyT/len(self.targetData)\n",
    "        \n",
    "        if(showTestAccuracy):\n",
    "            return accuracy/len(valid)"
   ]
  },
  {
   "cell_type": "code",
   "execution_count": 482,
   "metadata": {},
   "outputs": [],
   "source": [
    "X = x_train.values\n",
    "Y = y_train.values\n",
    "hiddelLayer = int(X.shape[0]*(2/3) + Y.shape[0])"
   ]
  },
  {
   "cell_type": "code",
   "execution_count": 483,
   "metadata": {},
   "outputs": [
    {
     "name": "stdout",
     "output_type": "stream",
     "text": [
      " Loss: 0.254767 Accuracy: 0.510417\n",
      " Loss: 0.000001 Accuracy: 1.000000\n",
      "seconds: 12.418403\n"
     ]
    }
   ],
   "source": [
    "start_time = time.time()\n",
    "nn = neuralNetwork(hiddenLayerSize = hiddelLayer,iterations = 200, showLoss = True, overFitPrevention = False)\n",
    "model = nn.fit(X,Y,LearnRate = 0.5)\n",
    "elapsed_time = time.time() - start_time\n",
    "print(\"seconds: %f\" %(elapsed_time))"
   ]
  },
  {
   "cell_type": "code",
   "execution_count": 476,
   "metadata": {},
   "outputs": [
    {
     "name": "stdout",
     "output_type": "stream",
     "text": [
      "Training Accuracy: 1.000000 Test Accuracy: 0.593750\n"
     ]
    }
   ],
   "source": [
    "trainingA, testA = nn.evaluate(x_val.values,y_val.values,showTrainingAccuracy=True,showTestAccuracy=True)\n",
    "print (\"Training Accuracy: %f Test Accuracy: %f\" % (trainingA,testA))"
   ]
  },
  {
   "cell_type": "code",
   "execution_count": 477,
   "metadata": {},
   "outputs": [
    {
     "name": "stdout",
     "output_type": "stream",
     "text": [
      "             precision    recall  f1-score   support\n",
      "\n",
      "   Negative       0.71      0.69      0.70       132\n",
      "   Positive       0.36      0.38      0.37        60\n",
      "\n",
      "avg / total       0.60      0.59      0.60       192\n",
      "\n"
     ]
    }
   ],
   "source": [
    "from sklearn.metrics import classification_report\n",
    "y_pred = nn.predict(x_val.values)\n",
    "predictions_mod = []\n",
    "count = 0\n",
    "for i in y_pred:\n",
    "    if(mean(i) > 0.5):\n",
    "        predictions_mod.append(1)\n",
    "    else:\n",
    "        predictions_mod.append(0)\n",
    "    count += 1\n",
    "\n",
    "target_names = ['Negative', 'Positive']\n",
    "print(classification_report(y_val.values, predictions_mod, target_names=target_names))"
   ]
  },
  {
   "cell_type": "code",
   "execution_count": 468,
   "metadata": {},
   "outputs": [
    {
     "name": "stdout",
     "output_type": "stream",
     "text": [
      "seconds: 25.928462\n",
      "576/576 [==============================] - 1s 930us/step\n",
      "Loss: 0.4928353561295403\n",
      "Accuracy: 0.7361111111111112\n"
     ]
    }
   ],
   "source": [
    "from keras.models import Sequential\n",
    "from keras.layers import Dense, Dropout, Activation\n",
    "from keras.layers import Flatten\n",
    "from keras.layers.embeddings import Embedding\n",
    "start_time = time.time()\n",
    "#model_nn.summary()\n",
    "\n",
    "model_nn = Sequential()\n",
    "model_nn.add(Dense(hiddelLayer,input_shape=(X.shape[1],), activation='sigmoid'))\n",
    "model_nn.add(Dense(1, activation='sigmoid'))\n",
    "model_nn.compile(loss='binary_crossentropy', optimizer='sgd', metrics=['accuracy'])\n",
    "model_nn.fit(x_train, y_train, epochs=200, verbose=0)\n",
    "elapsed_time = time.time() - start_time \n",
    "print(\"seconds: %f\" %(elapsed_time))\n",
    "out = model_nn.evaluate(x_train,y_train)\n",
    "print(\"Loss:\",out[0])\n",
    "print(\"Accuracy:\",out[1])"
   ]
  },
  {
   "cell_type": "code",
   "execution_count": 400,
   "metadata": {},
   "outputs": [
    {
     "name": "stdout",
     "output_type": "stream",
     "text": [
      "192/192 [==============================] - 0s 2ms/step\n",
      "Loss: 6.715873161951701\n",
      "Accuracy: 0.5833333333333334\n"
     ]
    }
   ],
   "source": [
    "out = model_nn.evaluate(x_val,y_val)\n",
    "print(\"Loss:\",out[0])\n",
    "print(\"Accuracy:\",out[1])"
   ]
  },
  {
   "cell_type": "code",
   "execution_count": 470,
   "metadata": {},
   "outputs": [
    {
     "name": "stdout",
     "output_type": "stream",
     "text": [
      "             precision    recall  f1-score   support\n",
      "\n",
      "   Negative       0.76      0.95      0.85       132\n",
      "   Positive       0.77      0.33      0.47        60\n",
      "\n",
      "avg / total       0.76      0.76      0.73       192\n",
      "\n"
     ]
    }
   ],
   "source": [
    "from sklearn.metrics import classification_report\n",
    "\n",
    "y_pred = model_nn.predict(x_val)\n",
    "\n",
    "for i in range(len(y_pred)):\n",
    "    if(y_pred[i] > 0.5):\n",
    "        y_pred[i] = 1\n",
    "    else:\n",
    "        y_pred[i] = 0\n",
    "\n",
    "target_names = ['Negative', 'Positive']\n",
    "print(classification_report(y_val.values, y_pred, target_names=target_names))"
   ]
  },
  {
   "cell_type": "code",
   "execution_count": null,
   "metadata": {},
   "outputs": [],
   "source": []
  }
 ],
 "metadata": {
  "kernelspec": {
   "display_name": "Python 3",
   "language": "python",
   "name": "python3"
  },
  "language_info": {
   "codemirror_mode": {
    "name": "ipython",
    "version": 3
   },
   "file_extension": ".py",
   "mimetype": "text/x-python",
   "name": "python",
   "nbconvert_exporter": "python",
   "pygments_lexer": "ipython3",
   "version": "3.7.3"
  }
 },
 "nbformat": 4,
 "nbformat_minor": 2
}
